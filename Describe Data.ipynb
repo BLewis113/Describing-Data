{
 "cells": [
  {
   "cell_type": "code",
   "execution_count": 8,
   "metadata": {},
   "outputs": [],
   "source": [
    "import pandas as pd \n",
    "import numpy as np\n",
    "import matplotlib.pyplot as plt\n",
    "import statistics\n",
    "%matplotlib inline"
   ]
  },
  {
   "cell_type": "markdown",
   "metadata": {},
   "source": [
    "Greg 14, Marcia 12, Peter 11, Jan 10, Bobby 8, Cindy 6, Oliver 8.\n",
    "\n",
    "Mean = 69/7 = 9.86,\n",
    "Median = 10,\n",
    "Mode = 8,\n",
    "Variance = 7.4762,\n",
    "Standard Deviation = 2.734,\n",
    "Standard Error = 1.116"
   ]
  },
  {
   "cell_type": "code",
   "execution_count": 11,
   "metadata": {},
   "outputs": [
    {
     "name": "stdout",
     "output_type": "stream",
     "text": [
      "mean:  9.857142857142858\n",
      "median:  10.0\n",
      "variance:  6.408163265306122\n",
      "std. deviation : 2.531435020952764\n",
      "standard error : 1.0334540197243194\n",
      "Mode is 8\n"
     ]
    }
   ],
   "source": [
    "ages =[14,12,11,10,8,6,8]\n",
    "\n",
    "def summarystats(ages):\n",
    "    print(\"mean: \",np.mean(ages))\n",
    "    print(\"median: \",np.median(ages))\n",
    "    print(\"variance: \",np.var(ages))\n",
    "    print(\"std. deviation :\",np.std(ages))\n",
    "    print(\"standard error :\",np.std(ages)/np.sqrt(len(ages)-1))\n",
    "    \n",
    "summarystats(ages)\n",
    "print(\"Mode is 8\")"
   ]
  },
  {
   "cell_type": "markdown",
   "metadata": {},
   "source": [
    "For my Central tendency I would choose the mode because there is one. And for the Variance I would choose the Standard Error because it seems fairly low. "
   ]
  },
  {
   "cell_type": "markdown",
   "metadata": {},
   "source": [
    "Greg 14, Marcia 12, Peter 11, Jan 10, Bobby 8, Cindy 7, Oliver 8.\n",
    "\n",
    "Mean = 69/7 = 10 changed,\n",
    "Median = 10 same,\n",
    "Mode = 8 same,\n",
    "Variance = 6.33 changed,\n",
    "Standard Deviation = 2.517 change,\n",
    "Standard Error = .951 change"
   ]
  },
  {
   "cell_type": "code",
   "execution_count": 9,
   "metadata": {},
   "outputs": [
    {
     "name": "stdout",
     "output_type": "stream",
     "text": [
      "mean:  10.0\n",
      "median:  10.0\n",
      "variance:  5.428571428571429\n",
      "std. deviation : 2.32992949004287\n",
      "standard error : 0.951189731211342\n",
      "Mode is 8\n"
     ]
    }
   ],
   "source": [
    "ages2 =[14,12,11,10,8,7,8]\n",
    "summarystats(ages2)\n",
    "print(\"Mode is 8\")"
   ]
  },
  {
   "cell_type": "markdown",
   "metadata": {},
   "source": [
    "Greg 14, Marcia 12, Peter 11, Jan 10, Bobby 8, Cindy 7, Jessica 1.\n",
    "\n",
    "Mean = 63/7 = 9,\n",
    "Median = 10 ,\n",
    "Mode = no mode,\n",
    "Variance = 19.16,\n",
    "Standard Deviation = 4.378,\n",
    "Standard Error = 1.654\n",
    "\n",
    "I would change my values to the Median and Variance because the Variance is alot higher than any central tendency and there is no longer a mode so the Median may provide more information"
   ]
  },
  {
   "cell_type": "code",
   "execution_count": 10,
   "metadata": {},
   "outputs": [
    {
     "name": "stdout",
     "output_type": "stream",
     "text": [
      "mean:  9.0\n",
      "median:  10.0\n",
      "variance:  15.428571428571429\n",
      "std. deviation : 3.927922024247863\n",
      "standard error : 1.6035674514745466\n",
      "There is no mode\n"
     ]
    }
   ],
   "source": [
    "ages3 =[14,12,11,10,8,7,1]\n",
    "summarystats(ages3)\n",
    "print(\"There is no mode\")"
   ]
  },
  {
   "cell_type": "markdown",
   "metadata": {},
   "source": [
    "TV Guide 20% fans Entertainment Weekly 23% fans Pop Culture Today 17% fans SciPhi Phanatic 5% fans\n",
    "\n",
    "Average of 16.25%"
   ]
  }
 ],
 "metadata": {
  "kernelspec": {
   "display_name": "Python 3",
   "language": "python",
   "name": "python3"
  },
  "language_info": {
   "codemirror_mode": {
    "name": "ipython",
    "version": 3
   },
   "file_extension": ".py",
   "mimetype": "text/x-python",
   "name": "python",
   "nbconvert_exporter": "python",
   "pygments_lexer": "ipython3",
   "version": "3.7.1"
  }
 },
 "nbformat": 4,
 "nbformat_minor": 2
}
